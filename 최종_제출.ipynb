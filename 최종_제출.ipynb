{
  "nbformat": 4,
  "nbformat_minor": 0,
  "metadata": {
    "colab": {
      "provenance": [],
      "collapsed_sections": []
    },
    "kernelspec": {
      "name": "python3",
      "display_name": "Python 3"
    },
    "language_info": {
      "name": "python"
    }
  },
  "cells": [
    {
      "cell_type": "code",
      "execution_count": null,
      "metadata": {
        "id": "0q763r-4AnU-"
      },
      "outputs": [],
      "source": [
        "import numpy as np\n",
        "import pandas as pd\n",
        "from lightgbm import LGBMClassifier\n",
        "from sklearn.ensemble import RandomForestClassifier\n",
        "from sklearn.ensemble import ExtraTreesClassifier\n",
        "from sklearn.metrics import roc_auc_score\n",
        "from sklearn.model_selection import train_test_split\n",
        "import warnings\n",
        "warnings.filterwarnings('ignore')"
      ]
    },
    {
      "cell_type": "code",
      "source": [
        "from google.colab import drive\n",
        "drive.mount('/gdrive')"
      ],
      "metadata": {
        "id": "SM4AoJG0AoQE"
      },
      "execution_count": null,
      "outputs": []
    },
    {
      "cell_type": "markdown",
      "source": [
        "# **Data preprocessing**"
      ],
      "metadata": {
        "id": "2Z-BRqMiBL3q"
      }
    },
    {
      "cell_type": "code",
      "source": [
        "train=pd.read_csv('/gdrive/My Drive/Colab Notebooks/competition_data (1)/train.csv') \n",
        "test=pd.read_csv('/gdrive/My Drive/Colab Notebooks/competition_data (1)/test.csv')\n",
        "submission=pd.read_csv('/gdrive/My Drive/Colab Notebooks/competition_data (1)/sample_submission.csv', index_col=0)\n",
        "\n",
        "#결측치 확인\n",
        "train.info()"
      ],
      "metadata": {
        "id": "j__LfiuFAoz-"
      },
      "execution_count": null,
      "outputs": []
    },
    {
      "cell_type": "code",
      "source": [
        "#nan값 전부 0으로 삽입\n",
        "train.fillna(0, inplace= True)\n",
        "test.fillna(0, inplace= True)"
      ],
      "metadata": {
        "id": "JgIaDGeEAq32"
      },
      "execution_count": null,
      "outputs": []
    },
    {
      "cell_type": "code",
      "source": [
        "#상관관계가 적은 시간 특성, 인덱스 col을 제거\n",
        "\n",
        "drop_list = ['introelapse', 'testelapse', 'surveyelapse', 'index',]\n",
        "\n",
        "train.drop(drop_list, axis = 1, inplace = True)\n",
        "test.drop(drop_list, axis = 1, inplace = True)"
      ],
      "metadata": {
        "id": "iyJ0Y84bAre-"
      },
      "execution_count": null,
      "outputs": []
    },
    {
      "cell_type": "code",
      "source": [
        "#0값을 해당 특성의 train의 평균값으로 처리\n",
        "processing_feature = ['gender', 'married', 'education', 'voted', 'urban', 'orientation', 'religion', 'engnat', 'ASD']\n",
        "\n",
        "for pro in processing_feature:\n",
        "    train.loc[train[pro] == 0, pro] = train[pro].mean()\n",
        "    test.loc[test[pro] == 0, pro] = train[pro].mean()"
      ],
      "metadata": {
        "id": "YS0J2tYkAtS3"
      },
      "execution_count": null,
      "outputs": []
    },
    {
      "cell_type": "code",
      "source": [
        "#age 이상치(80살 이상) 0으로 처리\n",
        "train.loc[train['age'] > 80, 'age'] = 0\n",
        "test.loc[test['age'] > 80, 'age'] = 0"
      ],
      "metadata": {
        "id": "zgQ0h-uaAuM1"
      },
      "execution_count": null,
      "outputs": []
    },
    {
      "cell_type": "code",
      "source": [
        "#age의 이상치는 train데이터의 평균값으로 처리\n",
        "train.loc[train['age'] == 0, 'age'] = train['age'].mean()\n",
        "test.loc[test['age'] == 0, 'age'] = train['age'].mean()\n",
        "\n",
        "#familysize 6 이상인 값 최빈값으로 교체, \n",
        "train.loc[train['familysize'] > 6, 'familysize'] = train['familysize'].mode()[0]\n",
        "test.loc[test['familysize'] > 6, 'familysize'] = train['familysize'].mode()[0]"
      ],
      "metadata": {
        "id": "Ne1ayKhqAu3F"
      },
      "execution_count": null,
      "outputs": []
    },
    {
      "cell_type": "code",
      "source": [
        "#훈련 데이터에 존재하는 상위 6개의 나라\n",
        "best6_country = train['country'].value_counts().keys()[:6]\n",
        "\n",
        "#train데이터 상위 6개 국가 제외 train데이터의 최빈값으로 처리\n",
        "for i in range(len(train['country'])):\n",
        "    if train['country'][i] not in best6_country or train['country'][i]==0:\n",
        "        train['country'][i] = train['country'].mode()[0]\n",
        "\n",
        "#test데이터 상위 6개 국가 제외 train데이터의 최빈값으로 처리\n",
        "for i in range(len(test['country'])):\n",
        "    if test['country'][i] not in best6_country or test['country'][i]==0:\n",
        "        test['country'][i] = train['country'].mode()[0]"
      ],
      "metadata": {
        "id": "wDdPYpXhAvrX"
      },
      "execution_count": null,
      "outputs": []
    },
    {
      "cell_type": "code",
      "source": [
        "#country 특성 원-핫인코딩 수행 (country 특성 세부 분할)\n",
        "train = pd.get_dummies(train)\n",
        "test = pd.get_dummies(test)"
      ],
      "metadata": {
        "id": "8Dpci3yUAwZW"
      },
      "execution_count": null,
      "outputs": []
    },
    {
      "cell_type": "markdown",
      "source": [
        "# **Hyperparameter Tuning: Optuna**"
      ],
      "metadata": {
        "id": "LZxJ8j_ZBJhi"
      }
    },
    {
      "cell_type": "code",
      "source": [
        "!pip install --quiet optuna"
      ],
      "metadata": {
        "id": "8-DNXwWZAx6u"
      },
      "execution_count": null,
      "outputs": []
    },
    {
      "cell_type": "code",
      "source": [
        "import numpy as np\n",
        "import pandas as pd\n",
        "import optuna\n",
        "from lightgbm import LGBMClassifier\n",
        "from sklearn.model_selection import StratifiedKFold\n",
        "from optuna.samplers import TPESampler\n",
        "from optuna.pruners import SuccessiveHalvingPruner"
      ],
      "metadata": {
        "id": "JtxrBAoBAynu"
      },
      "execution_count": null,
      "outputs": []
    },
    {
      "cell_type": "code",
      "source": [
        "features = ['Q1', 'Q2', 'Q3', 'Q4', 'Q5', 'Q6', 'Q7', 'Q8', 'Q9', 'Q10', 'Q11',\n",
        "       'Q12', 'Q13', 'Q14', 'Q15', 'Q16', 'Q17', 'Q18', 'Q19', 'Q20', 'Q21',\n",
        "       'Q22', 'Q23', 'Q24', 'Q25', 'Q26', 'TIPI1', 'TIPI2', 'TIPI3', 'TIPI4',\n",
        "       'TIPI5', 'TIPI6', 'TIPI7', 'TIPI8', 'TIPI9', 'TIPI10', 'VCL1', 'VCL2',\n",
        "       'VCL3', 'VCL4', 'VCL5', 'VCL6', 'VCL7', 'VCL8', 'VCL9', 'VCL10',\n",
        "       'VCL11', 'VCL12', 'VCL13', 'VCL14', 'VCL15', 'VCL16', 'education',\n",
        "       'urban', 'gender', 'engnat', 'age', 'hand', 'religion', 'orientation',\n",
        "       'voted', 'married', 'familysize', 'ASD', 'country_AUS',\n",
        "       'country_CAN', 'country_DEU', 'country_GBR', 'country_PHL',\n",
        "       'country_USA']\n",
        "\n",
        "target = ['nerdiness']"
      ],
      "metadata": {
        "id": "zvHH7dRJAzL-"
      },
      "execution_count": null,
      "outputs": []
    },
    {
      "cell_type": "code",
      "source": [
        "df_trains = []\n",
        "df_valids = []\n",
        "\n",
        "skf = StratifiedKFold(n_splits=10, random_state=2022, shuffle=True)\n",
        "for train_index, valid_index in skf.split(train[features], train[target]):\n",
        "    df_train = train.loc[train_index]\n",
        "    df_valid = train.loc[valid_index]\n",
        "    df_trains.append(df_train)\n",
        "    df_valids.append(df_valid)\n",
        "\n",
        "    x_train = df_train[features]\n",
        "    y_train = df_train[target]\n",
        "\n",
        "    x_test = df_valid[features]\n",
        "    y_test = df_valid[target]"
      ],
      "metadata": {
        "id": "o9GgprcjA0ie"
      },
      "execution_count": null,
      "outputs": []
    },
    {
      "cell_type": "code",
      "source": [
        "def accuracy(true, pred):\n",
        "    return np.mean(true==pred)\n",
        "\n",
        "def objective(trial):\n",
        "    params = {\n",
        "        'num_leaves': trial.suggest_int('num_leaves', 300, 824, step=1, log=True), \n",
        "        'max_depth': trial.suggest_int('max_depth', 10, 20, step=1, log=False), \n",
        "        'learning_rate': trial.suggest_float('learning_rate', 0.0001, 0.1, log=True), \n",
        "        'n_estimators': trial.suggest_int('n_estimators', 1500, 3000, step=1, log=True), \n",
        "        \"metric\": \"multi_auc\",\n",
        "        'class_weight': trial.suggest_categorical('class_weight', ['balanced', None]),\n",
        "        'min_child_samples': trial.suggest_int('min_child_samples', 10, 50, step=1, log=False), \n",
        "        'subsample': trial.suggest_uniform('subsample', 0.7, 1.0), \n",
        "        'colsample_bytree': trial.suggest_uniform('colsample_bytree', 0.7, 1.0),\n",
        "        'reg_alpha': trial.suggest_uniform('reg_alpha', 0.0, 1.0),\n",
        "        'reg_lambda': trial.suggest_uniform('reg_lambda', 0.0, 1.0),\n",
        "        'random_state': 2022\n",
        "    }\n",
        "    \n",
        "    score = []\n",
        "    for df_train, df_valid in zip(df_trains, df_valids):\n",
        "        clf = LGBMClassifier(**params)\n",
        "        clf.fit(x_train, y_train)\n",
        "        \n",
        "        pred = clf.predict_proba(df_valid[features])[:, 1]\n",
        "        true = df_valid[target].values\n",
        "        score.append(roc_auc_score(true, pred))\n",
        "    score = np.mean(score)\n",
        "    return score\n",
        "\n",
        "# Hyperparameter Tuning\n",
        "study = optuna.create_study(direction='maximize', sampler=TPESampler(seed=2022), pruner=SuccessiveHalvingPruner())\n",
        "study.optimize(objective, n_trials=10)"
      ],
      "metadata": {
        "id": "C5u59yaHA3Qy"
      },
      "execution_count": null,
      "outputs": []
    },
    {
      "cell_type": "code",
      "source": [
        "optuna.visualization.plot_optimization_history(study)"
      ],
      "metadata": {
        "id": "mLTnXYhMA4SX"
      },
      "execution_count": null,
      "outputs": []
    },
    {
      "cell_type": "code",
      "source": [
        "optuna.visualization.plot_parallel_coordinate(study)"
      ],
      "metadata": {
        "id": "Hn_hrcQfA4zW"
      },
      "execution_count": null,
      "outputs": []
    },
    {
      "cell_type": "code",
      "source": [
        "# 하이퍼파라미터 중요도\n",
        "optuna.visualization.plot_param_importances(study)"
      ],
      "metadata": {
        "id": "k-Xve7AkA5aO"
      },
      "execution_count": null,
      "outputs": []
    },
    {
      "cell_type": "code",
      "source": [
        "clfs = []\n",
        "for df_train in df_trains:\n",
        "    clf = LGBMClassifier(**study.best_params)\n",
        "    clf.fit(df_train[features], df_train[target])\n",
        "    pred_clf = clf.predict_proba(x_test)[:, 1]\n",
        "    print(roc_auc_score(y_test, pred_clf))\n",
        "    clfs.append(clf)"
      ],
      "metadata": {
        "id": "tJsQVSK0A6HG"
      },
      "execution_count": null,
      "outputs": []
    },
    {
      "cell_type": "code",
      "source": [
        "clfs"
      ],
      "metadata": {
        "id": "bQ3P7MdBA6yu"
      },
      "execution_count": null,
      "outputs": []
    },
    {
      "cell_type": "code",
      "source": [
        "pred = [clf.predict_proba(test[features]) for clf in clfs]"
      ],
      "metadata": {
        "id": "vfpYLQtsA7e3"
      },
      "execution_count": null,
      "outputs": []
    },
    {
      "cell_type": "code",
      "source": [
        "real_pred = []\n",
        "\n",
        "for i in range(10):\n",
        "    for j in range(len(pred[i])):\n",
        "        real_pred.append(pred[i][j][1])"
      ],
      "metadata": {
        "id": "gqi7K1y0A75I"
      },
      "execution_count": null,
      "outputs": []
    },
    {
      "cell_type": "code",
      "source": [
        "real_pred = []\n",
        "\n",
        "for i in range(1):\n",
        "    for j in range(len(pred[i])):\n",
        "        real_pred.append(pred[i][j][1])\n",
        "\n",
        "for i in range(2,10):\n",
        "    for j in range(len(pred[i])):\n",
        "        real_pred[j] += pred[i][j][1]\n",
        "        if i==9:\n",
        "            real_pred[j]= real_pred[j]/10\n",
        "\n",
        "real_pred[:10]"
      ],
      "metadata": {
        "id": "jGcs3jbHA8e2"
      },
      "execution_count": null,
      "outputs": []
    },
    {
      "cell_type": "code",
      "source": [
        "x_train = train.drop('nerdiness', axis = 1)\n",
        "y_train = train['nerdiness']"
      ],
      "metadata": {
        "id": "AePd-95ZA9B2"
      },
      "execution_count": null,
      "outputs": []
    },
    {
      "cell_type": "code",
      "source": [
        "#extree model\n",
        "\n",
        "extraTree_model = ExtraTreesClassifier(n_jobs=-1, random_state = 2022, n_estimators=3000)\n",
        "extraTree_model.fit(x_train, y_train)\n",
        "extraTree_pred = extraTree_model.predict_proba(test)[:, 1]"
      ],
      "metadata": {
        "id": "V9_ZTvftA98X"
      },
      "execution_count": null,
      "outputs": []
    },
    {
      "cell_type": "code",
      "source": [
        "real2_pred = list(extraTree_pred)"
      ],
      "metadata": {
        "id": "LGpBBEfUA-b7"
      },
      "execution_count": null,
      "outputs": []
    },
    {
      "cell_type": "markdown",
      "source": [
        "# **Ensemble**"
      ],
      "metadata": {
        "id": "SecotbFPBErC"
      }
    },
    {
      "cell_type": "code",
      "source": [
        "result_pred = []\n",
        "\n",
        "for i in range(len(real2_pred)):\n",
        "    result_pred.append((real2_pred[i] * 0.6) + (real_pred[i] * 0.4))\n",
        "\n",
        "result_pred"
      ],
      "metadata": {
        "id": "XXUeeBf0A_Fy"
      },
      "execution_count": null,
      "outputs": []
    },
    {
      "cell_type": "code",
      "source": [
        "submission['nerdiness'] = result_pred"
      ],
      "metadata": {
        "id": "L-QBdzmDBBdZ"
      },
      "execution_count": null,
      "outputs": []
    }
  ]
}